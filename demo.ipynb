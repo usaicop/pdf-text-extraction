{
 "cells": [
  {
   "cell_type": "markdown",
   "metadata": {},
   "source": [
    "# Setup and Configuration\n",
    "Install and import necessary libraries such as boto3 and PyPDF2 (or other libraries for text extraction). Configure AWS credentials and region."
   ]
  },
  {
   "cell_type": "code",
   "execution_count": null,
   "metadata": {},
   "outputs": [],
   "source": [
    "# Install necessary libraries\n",
    "!pip install boto3 PyPDF2\n",
    "\n",
    "# Import required libraries\n",
    "import boto3\n",
    "from PyPDF2 import PdfReader\n",
    "\n",
    "# Configure AWS credentials and region\n",
    "aws_access_key_id = \"your_aws_access_key_id\"  # Replace with your AWS Access Key ID\n",
    "aws_secret_access_key = \"your_aws_secret_access_key\"  # Replace with your AWS Secret Access Key\n",
    "aws_region = \"your_aws_region\"  # Replace with your AWS Region\n",
    "aws_url = \"aws-endpoint-url\"  # Replace with your AWS Endpoint Path\n",
    "\n",
    "# Initialize the S3 client\n",
    "s3_client = boto3.client(\n",
    "    \"s3\",\n",
    "    aws_access_key_id=aws_access_key_id,\n",
    "    aws_secret_access_key=aws_secret_access_key,\n",
    "    region_name=aws_region,\n",
    "    endpoint_url=aws_url\n"
    ")"
   ]
  },
  {
   "cell_type": "markdown",
   "metadata": {},
   "source": [
    "# Connect to AWS S3\n",
    "Use boto3 to establish a connection to the S3 bucket and verify access."
   ]
  },
  {
   "cell_type": "code",
   "execution_count": null,
   "metadata": {},
   "outputs": [],
   "source": [
    "# List all buckets and verify access\n",
    "try:\n",
    "    response = s3_client.list_buckets()\n",
    "    print(\"Buckets available in your AWS account:\")\n",
    "    for bucket in response['Buckets']:\n",
    "        print(f\"  - {bucket['Name']}\")\n",
    "except Exception as e:\n",
    "    print(f\"Error connecting to S3: {e}\")"
   ]
  },
  {
   "cell_type": "markdown",
   "metadata": {},
   "source": [
    "# List Files in S3 Bucket\n",
    "Retrieve and display a list of document files (e.g., PDFs, Word documents) available in the S3 bucket."
   ]
  },
  {
   "cell_type": "code",
   "execution_count": null,
   "metadata": {},
   "outputs": [],
   "source": [
    "# Specify the S3 bucket name\n",
    "bucket_name = \"your_bucket_name\"  # Replace with your S3 bucket name\n",
    "\n",
    "# List files in the specified S3 bucket\n",
    "try:\n",
    "    response = s3_client.list_objects_v2(Bucket=bucket_name)\n",
    "    if 'Contents' in response:\n",
    "        print(f\"Files in bucket '{bucket_name}':\")\n",
    "        for obj in response['Contents']:\n",
    "            print(f\"  - {obj['Key']}\")\n",
    "    else:\n",
    "        print(f\"No files found in bucket '{bucket_name}'.\")\n",
    "except Exception as e:\n",
    "    print(f\"Error listing files in bucket '{bucket_name}': {e}\")"
   ]
  },
  {
   "cell_type": "markdown",
   "metadata": {},
   "source": [
    "# Extract Text from Files in S3\n",
    "Stream files directly from S3 using boto3's `get_object` method and extract text using libraries like PyPDF2 for PDFs or python-docx for Word documents."
   ]
  },
  {
   "cell_type": "code",
   "execution_count": null,
   "metadata": {},
   "outputs": [],
   "source": [
    "# Extract text from files in the S3 bucket\n",
    "extracted_texts = {}\n",
    "\n",
    "try:\n",
    "    # List objects in the S3 bucket\n",
    "    response = s3_client.list_objects_v2(Bucket=bucket_name)\n",
    "    if 'Contents' in response:\n",
    "        print(\"Processing document files from the S3 bucket...\")\n",
    "        for obj in response['Contents']:\n",
    "            file_name = obj['Key']\n",
    "            # Filter for document files based on extensions\n",
    "            if file_name.endswith('.txt'):\n",
    "                try:\n",
    "                    # Read text file content\n",
    "                    file_obj = s3_client.get_object(Bucket=bucket_name, Key=file_name)\n",
    "                    text = file_obj['Body'].read().decode('utf-8')\n",
    "                    extracted_texts[file_name] = text\n",
    "                    print(f\"Extracted text from: {file_name}\")\n",
    "                except Exception as e:\n",
    "                    print(f\"Error extracting text from {file_name}: {e}\")\n",
    "            elif file_name.endswith('.pdf'):\n",
    "                try:\n",
    "                    # Read PDF file content\n",
    "                    file_obj = s3_client.get_object(Bucket=bucket_name, Key=file_name)\n",
    "                    pdf_reader = PdfReader(BytesIO(file_obj['Body'].read()))\n",
    "                    text = \"\"\n",
    "                    for page in pdf_reader.pages:\n",
    "                        text += page.extract_text()\n",
    "                    extracted_texts[file_name] = text\n",
    "                    print(f\"Extracted text from: {file_name}\")\n",
    "                except Exception as e:\n",
    "                    print(f\"Error extracting text from {file_name}: {e}\")\n",
    "            elif file_name.endswith('.docx'):\n",
    "                try:\n",
    "                    # Read DOCX file content\n",
    "                    file_obj = s3_client.get_object(Bucket=bucket_name, Key=file_name)\n",
    "                    doc = Document(BytesIO(file_obj['Body'].read()))\n",
    "                    text = \"\\n\".join([paragraph.text for paragraph in doc.paragraphs])\n",
    "                    extracted_texts[file_name] = text\n",
    "                    print(f\"Extracted text from: {file_name}\")\n",
    "                except Exception as e:\n",
    "                    print(f\"Error extracting text from {file_name}: {e}\")\n",
    "    else:\n",
    "        print(\"No files found in the bucket.\")\n",
    "except Exception as e:\n",
    "    print(f\"Error processing files from S3 bucket: {e}\")\n",
    "\n",
    "# Display the extracted text for each file\n",
    "for file_name, text in extracted_texts.items():\n",
    "    print(f\"\\n--- Extracted Text from {file_name} ---\\n\")\n",
    "    print(text)"
   ]
  },
  {
   "cell_type": "markdown",
   "metadata": {},
   "source": [
    "# Display Extracted Text\n",
    "Print or render the extracted text from the files in a readable format within the notebook."
   ]
  },
  {
   "cell_type": "code",
   "execution_count": null,
   "metadata": {},
   "outputs": [],
   "source": [
    "# Display Extracted Text\n",
    "if extracted_text:\n",
    "    # Render the extracted text in a readable format\n",
    "    from IPython.display import display, Markdown\n",
    "\n",
    "    print(\"Extracted Text:\")\n",
    "    display(Markdown(f\"```\\n{extracted_text}\\n```\"))\n",
    "else:\n",
    "    print(\"No text extracted or unsupported file type.\")"
   ]
  }
 ],
 "metadata": {
  "language_info": {
   "name": "python"
  }
 },
 "nbformat": 4,
 "nbformat_minor": 2
}
